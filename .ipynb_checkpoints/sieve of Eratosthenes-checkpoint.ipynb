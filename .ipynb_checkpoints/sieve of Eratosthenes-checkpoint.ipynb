{
 "cells": [
  {
   "cell_type": "code",
   "execution_count": 2,
   "metadata": {},
   "outputs": [
    {
     "name": "stdout",
     "output_type": "stream",
     "text": [
      "Enter the a number\n",
      "23\n",
      "[2, 3, 5, 7, 11, 13, 17, 19, 23]\n"
     ]
    }
   ],
   "source": [
    "import math\n",
    "\n",
    "print (\"Enter the a number\")\n",
    "number = int(input())\n",
    "\n",
    "primes = []\n",
    "for i in range(2,number+1):\n",
    "    primes.append(i)\n",
    "\n",
    "i = 2\n",
    "#from 2 to sqrt(number)\n",
    "while(i <= int(math.sqrt(number))):\n",
    "    #if i is in list\n",
    "    #then we gotta delete its multiples\n",
    "    if i in primes:\n",
    "        #j will give multiples of i,\n",
    "        #starting from 2*i\n",
    "        for j in range(i*2, number+1, i):\n",
    "            if j in primes:\n",
    "                #deleting the multiple if found in list\n",
    "                primes.remove(j)\n",
    "    i = i+1\n",
    "\n",
    "print (primes)"
   ]
  },
  {
   "cell_type": "code",
   "execution_count": null,
   "metadata": {},
   "outputs": [],
   "source": []
  }
 ],
 "metadata": {
  "kernelspec": {
   "display_name": "Python 3",
   "language": "python",
   "name": "python3"
  }
 },
 "nbformat": 4,
 "nbformat_minor": 2
}
